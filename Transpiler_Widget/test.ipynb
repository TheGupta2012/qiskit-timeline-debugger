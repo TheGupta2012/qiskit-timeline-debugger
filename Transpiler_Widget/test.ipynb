{
 "cells": [
  {
   "cell_type": "code",
   "execution_count": 1,
   "metadata": {
    "ExecuteTime": {
     "end_time": "2021-12-08T11:34:39.713896Z",
     "start_time": "2021-12-08T11:34:38.800545Z"
    }
   },
   "outputs": [],
   "source": [
    "from qiskit.circuit.random import random_circuit\n",
    "from qiskit.test.mock import FakeCasablanca\n",
    "from qiskit.converters import circuit_to_dag \n",
    "import warnings\n",
    "\n",
    "warnings.filterwarnings(\"ignore\")\n",
    "%reload_ext autoreload\n",
    "%autoreload 0\n"
   ]
  },
  {
   "cell_type": "code",
   "execution_count": 2,
   "metadata": {
    "ExecuteTime": {
     "end_time": "2021-12-08T11:34:39.722045Z",
     "start_time": "2021-12-08T11:34:39.715299Z"
    }
   },
   "outputs": [],
   "source": [
    "backend = FakeCasablanca()\n",
    "circ = random_circuit(5, 2, measure = True)\n",
    "dag = circuit_to_dag(circ)"
   ]
  },
  {
   "cell_type": "code",
   "execution_count": 3,
   "metadata": {
    "ExecuteTime": {
     "end_time": "2021-12-08T11:34:40.723310Z",
     "start_time": "2021-12-08T11:34:40.112073Z"
    }
   },
   "outputs": [
    {
     "data": {
      "image/png": "[encoded data removed]",
      "text/plain": [
       "<Figure size 568.197x385.28 with 1 Axes>"
      ]
     },
     "execution_count": 3,
     "metadata": {},
     "output_type": "execute_result"
    }
   ],
   "source": [
    "circ.draw('mpl')"
   ]
  },
  {
   "cell_type": "code",
   "execution_count": 5,
   "metadata": {
    "ExecuteTime": {
     "end_time": "2021-12-08T11:34:54.922953Z",
     "start_time": "2021-12-08T11:34:51.323018Z"
    },
    "scrolled": false
   },
   "outputs": [
    {
     "name": "stderr",
     "output_type": "stream",
     "text": [
      "/home/harshit/anaconda3/lib/python3.8/site-packages/ipykernel/ipkernel.py:287: DeprecationWarning: `should_run_async` will not call `transform_cell` automatically in the future. Please pass the result to `transformed_cell` argument and any exception that happen during thetransform in `preprocessing_exc_tuple` in IPython 7.17 and above.\n",
      "  and should_run_async(code)\n"
     ]
    },
    {
     "data": {
      "application/vnd.jupyter.widget-view+json": {
       "model_id": "1bbce0bc728c4494a7bc429dc94dd961",
       "version_major": 2,
       "version_minor": 0
      },
      "text/plain": [
       "TimelineView(children=(HTML(value='\\n        <style>\\n        .title h1 { font-size: 45px; font-weight: bold; …"
      ]
     },
     "metadata": {},
     "output_type": "display_data"
    }
   ],
   "source": [
    "from debugger import Debugger\n",
    "\n",
    "db = Debugger()\n",
    "db.debug(circ, backend, optimization_level = 3, initial_layout = [0,1,2,3,4],coupling_map = [[0,1],[1,2],[2,3],[3,4]] , routing_method = 'sabre')"
   ]
  },
  {
   "cell_type": "code",
   "execution_count": null,
   "metadata": {},
   "outputs": [],
   "source": []
  }
 ],
 "metadata": {
  "interpreter": {
   "hash": "04635d289a519a1410467dd0afb0db42f9184808881ca68b2eb5a687a20a5a94"
  },
  "kernelspec": {
   "display_name": "Python 3",
   "language": "python",
   "name": "python3"
  },
  "language_info": {
   "codemirror_mode": {
    "name": "ipython",
    "version": 3
   },
   "file_extension": ".py",
   "mimetype": "text/x-python",
   "name": "python",
   "nbconvert_exporter": "python",
   "pygments_lexer": "ipython3",
   "version": "3.8.8"
  }
 },
 "nbformat": 4,
 "nbformat_minor": 2
}
