{
 "cells": [
  {
   "cell_type": "code",
   "execution_count": 2,
   "id": "06f0b960",
   "metadata": {
    "ExecuteTime": {
     "end_time": "2022-02-09T11:18:55.364853Z",
     "start_time": "2022-02-09T11:18:51.567152Z"
    },
    "scrolled": false
   },
   "outputs": [
    {
     "data": {
      "application/vnd.jupyter.widget-view+json": {
       "model_id": "3521d3ff348747fb9942dbbf497c6840",
       "version_major": 2,
       "version_minor": 0
      },
      "text/plain": [
       "TimelineView(children=(HTML(value='\\n        <style>\\n        .title h1 { font-size: 45px; font-weight: bold; …"
      ]
     },
     "metadata": {},
     "output_type": "display_data"
    }
   ],
   "source": [
    "from qiskit import QuantumCircuit\n",
    "from qiskit.circuit.random import random_circuit\n",
    "from qiskit.test.mock import FakeCasablanca\n",
    "from qiskit_trebugger import Debugger\n",
    "import warnings\n",
    "\n",
    "warnings.simplefilter('ignore')\n",
    "\n",
    "debugger = Debugger()\n",
    "backend = FakeCasablanca()\n",
    "circuit = random_circuit(num_qubits = 2, depth = 5)\n",
    "# replace transpile call \n",
    "debugger.debug(circuit, backend = backend, initial_layout = [0,1])"
   ]
  },
  {
   "cell_type": "code",
   "execution_count": null,
   "id": "8f5d4a9c",
   "metadata": {},
   "outputs": [],
   "source": []
  }
 ],
 "metadata": {
  "kernelspec": {
   "display_name": "test-trebugger",
   "language": "python",
   "name": "test-trebugger"
  },
  "language_info": {
   "codemirror_mode": {
    "name": "ipython",
    "version": 3
   },
   "file_extension": ".py",
   "mimetype": "text/x-python",
   "name": "python",
   "nbconvert_exporter": "python",
   "pygments_lexer": "ipython3",
   "version": "3.9.7"
  }
 },
 "nbformat": 4,
 "nbformat_minor": 5
}
