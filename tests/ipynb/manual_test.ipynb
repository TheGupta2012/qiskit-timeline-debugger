{
 "cells": [
  {
   "cell_type": "code",
   "execution_count": 1,
   "id": "8871409d",
   "metadata": {
    "ExecuteTime": {
     "end_time": "2023-01-21T08:31:46.079134Z",
     "start_time": "2023-01-21T08:31:45.731926Z"
    }
   },
   "outputs": [],
   "source": [
    "from qiskit_trebugger import Debugger"
   ]
  },
  {
   "cell_type": "code",
   "execution_count": 2,
   "id": "d163f025",
   "metadata": {
    "ExecuteTime": {
     "end_time": "2023-01-21T08:31:46.103256Z",
     "start_time": "2023-01-21T08:31:46.080842Z"
    }
   },
   "outputs": [],
   "source": [
    "from qiskit.circuit.random import random_circuit\n",
    "from qiskit.providers.fake_provider import FakeCasablanca"
   ]
  },
  {
   "cell_type": "code",
   "execution_count": null,
   "id": "f477e9cc",
   "metadata": {
    "ExecuteTime": {
     "end_time": "2023-01-21T08:33:27.853352Z",
     "start_time": "2023-01-21T08:33:27.169008Z"
    }
   },
   "outputs": [],
   "source": [
    "circ = random_circuit(6, 10)\n",
    "circ.draw('mpl')"
   ]
  },
  {
   "cell_type": "code",
   "execution_count": null,
   "id": "2e2c87cf",
   "metadata": {
    "ExecuteTime": {
     "end_time": "2023-01-21T08:33:29.906765Z",
     "start_time": "2023-01-21T08:33:29.002936Z"
    }
   },
   "outputs": [],
   "source": [
    "debugger = Debugger()\n",
    "backend = FakeCasablanca()\n",
    "debugger.debug(\n",
    "    circ,\n",
    "    backend,\n",
    ")"
   ]
  },
  {
   "cell_type": "code",
   "execution_count": null,
   "id": "9d4a5063",
   "metadata": {},
   "outputs": [],
   "source": []
  }
 ],
 "metadata": {
  "kernelspec": {
   "display_name": "test-env",
   "language": "python",
   "name": "test-env"
  },
  "language_info": {
   "codemirror_mode": {
    "name": "ipython",
    "version": 3
   },
   "file_extension": ".py",
   "mimetype": "text/x-python",
   "name": "python",
   "nbconvert_exporter": "python",
   "pygments_lexer": "ipython3",
   "version": "3.8.10"
  }
 },
 "nbformat": 4,
 "nbformat_minor": 5
}
